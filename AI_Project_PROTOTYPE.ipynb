{
  "cells": [
    {
      "cell_type": "markdown",
      "metadata": {
        "id": "view-in-github",
        "colab_type": "text"
      },
      "source": [
        "<a href=\"https://colab.research.google.com/github/KarimMetwaly19/Loan_Prediction/blob/main/AI_Project_PROTOTYPE.ipynb\" target=\"_parent\"><img src=\"https://colab.research.google.com/assets/colab-badge.svg\" alt=\"Open In Colab\"/></a>"
      ]
    },
    {
      "cell_type": "markdown",
      "metadata": {
        "id": "FaE-RLzV_H-A"
      },
      "source": [
        "**AI project**\n"
      ]
    },
    {
      "cell_type": "markdown",
      "metadata": {
        "id": "HPS_yCq-_OpF"
      },
      "source": [
        "preprocessing part"
      ]
    },
    {
      "cell_type": "code",
      "execution_count": null,
      "metadata": {
        "id": "YZZKngHt_GWf"
      },
      "outputs": [],
      "source": [
        "import numpy as np # for numerical operations\n",
        "import pandas as pd # for handling input data\n",
        "import matplotlib.pyplot as plt # for data visualization \n",
        "import seaborn as sns # for data visualization \n",
        "import statistics\n",
        "import math\n",
        "from sklearn import svm,linear_model\n",
        "from sklearn import preprocessing,tree\n",
        "from sklearn.model_selection import train_test_split\n",
        "plt.style.use('seaborn-darkgrid')"
      ]
    },
    {
      "cell_type": "code",
      "execution_count": null,
      "metadata": {
        "colab": {
          "base_uri": "https://localhost:8080/"
        },
        "id": "bHPiXSYq_bSy",
        "outputId": "8e8d9f82-01f8-469a-84aa-7e0dc0c7eaeb"
      },
      "outputs": [
        {
          "output_type": "stream",
          "name": "stdout",
          "text": [
            "Data has 614 Rows and 13 Features\n"
          ]
        }
      ],
      "source": [
        "train = pd.read_csv('loan_data.csv')\n",
        "print(f\"Data has {train.shape[0]} Rows and {train.shape[1]} Features\")\n"
      ]
    },
    {
      "cell_type": "code",
      "execution_count": null,
      "metadata": {
        "id": "V-OirKblAXBM",
        "colab": {
          "base_uri": "https://localhost:8080/",
          "height": 634
        },
        "outputId": "5d6cfc46-f06d-4fae-dfdf-658b70af9c1d"
      },
      "outputs": [
        {
          "output_type": "stream",
          "name": "stdout",
          "text": [
            "<class 'pandas.core.frame.DataFrame'>\n",
            "RangeIndex: 614 entries, 0 to 613\n",
            "Data columns (total 13 columns):\n",
            " #   Column             Non-Null Count  Dtype  \n",
            "---  ------             --------------  -----  \n",
            " 0   Loan_ID            614 non-null    object \n",
            " 1   Gender             601 non-null    object \n",
            " 2   Married            611 non-null    object \n",
            " 3   Dependents         599 non-null    object \n",
            " 4   Education          614 non-null    object \n",
            " 5   Self_Employed      582 non-null    object \n",
            " 6   ApplicantIncome    614 non-null    int64  \n",
            " 7   CoapplicantIncome  614 non-null    float64\n",
            " 8   LoanAmount         592 non-null    float64\n",
            " 9   Loan_Amount_Term   600 non-null    float64\n",
            " 10  Credit_History     564 non-null    float64\n",
            " 11  Property_Area      614 non-null    object \n",
            " 12  Loan_Status        614 non-null    object \n",
            "dtypes: float64(4), int64(1), object(8)\n",
            "memory usage: 62.5+ KB\n"
          ]
        },
        {
          "output_type": "execute_result",
          "data": {
            "text/plain": [
              "    Loan_ID Gender Married Dependents     Education Self_Employed  \\\n",
              "0  LP001002   Male      No          0      Graduate            No   \n",
              "1  LP001003   Male     Yes          1      Graduate            No   \n",
              "2  LP001005   Male     Yes          0      Graduate           Yes   \n",
              "3  LP001006   Male     Yes          0  Not Graduate            No   \n",
              "4  LP001008   Male      No          0      Graduate            No   \n",
              "\n",
              "   ApplicantIncome  CoapplicantIncome  LoanAmount  Loan_Amount_Term  \\\n",
              "0             5849                0.0         NaN             360.0   \n",
              "1             4583             1508.0       128.0             360.0   \n",
              "2             3000                0.0        66.0             360.0   \n",
              "3             2583             2358.0       120.0             360.0   \n",
              "4             6000                0.0       141.0             360.0   \n",
              "\n",
              "   Credit_History Property_Area Loan_Status  \n",
              "0             1.0         Urban           Y  \n",
              "1             1.0         Rural           N  \n",
              "2             1.0         Urban           Y  \n",
              "3             1.0         Urban           Y  \n",
              "4             1.0         Urban           Y  "
            ],
            "text/html": [
              "\n",
              "  <div id=\"df-a222fa05-5389-4094-93c6-0524def88f3f\">\n",
              "    <div class=\"colab-df-container\">\n",
              "      <div>\n",
              "<style scoped>\n",
              "    .dataframe tbody tr th:only-of-type {\n",
              "        vertical-align: middle;\n",
              "    }\n",
              "\n",
              "    .dataframe tbody tr th {\n",
              "        vertical-align: top;\n",
              "    }\n",
              "\n",
              "    .dataframe thead th {\n",
              "        text-align: right;\n",
              "    }\n",
              "</style>\n",
              "<table border=\"1\" class=\"dataframe\">\n",
              "  <thead>\n",
              "    <tr style=\"text-align: right;\">\n",
              "      <th></th>\n",
              "      <th>Loan_ID</th>\n",
              "      <th>Gender</th>\n",
              "      <th>Married</th>\n",
              "      <th>Dependents</th>\n",
              "      <th>Education</th>\n",
              "      <th>Self_Employed</th>\n",
              "      <th>ApplicantIncome</th>\n",
              "      <th>CoapplicantIncome</th>\n",
              "      <th>LoanAmount</th>\n",
              "      <th>Loan_Amount_Term</th>\n",
              "      <th>Credit_History</th>\n",
              "      <th>Property_Area</th>\n",
              "      <th>Loan_Status</th>\n",
              "    </tr>\n",
              "  </thead>\n",
              "  <tbody>\n",
              "    <tr>\n",
              "      <th>0</th>\n",
              "      <td>LP001002</td>\n",
              "      <td>Male</td>\n",
              "      <td>No</td>\n",
              "      <td>0</td>\n",
              "      <td>Graduate</td>\n",
              "      <td>No</td>\n",
              "      <td>5849</td>\n",
              "      <td>0.0</td>\n",
              "      <td>NaN</td>\n",
              "      <td>360.0</td>\n",
              "      <td>1.0</td>\n",
              "      <td>Urban</td>\n",
              "      <td>Y</td>\n",
              "    </tr>\n",
              "    <tr>\n",
              "      <th>1</th>\n",
              "      <td>LP001003</td>\n",
              "      <td>Male</td>\n",
              "      <td>Yes</td>\n",
              "      <td>1</td>\n",
              "      <td>Graduate</td>\n",
              "      <td>No</td>\n",
              "      <td>4583</td>\n",
              "      <td>1508.0</td>\n",
              "      <td>128.0</td>\n",
              "      <td>360.0</td>\n",
              "      <td>1.0</td>\n",
              "      <td>Rural</td>\n",
              "      <td>N</td>\n",
              "    </tr>\n",
              "    <tr>\n",
              "      <th>2</th>\n",
              "      <td>LP001005</td>\n",
              "      <td>Male</td>\n",
              "      <td>Yes</td>\n",
              "      <td>0</td>\n",
              "      <td>Graduate</td>\n",
              "      <td>Yes</td>\n",
              "      <td>3000</td>\n",
              "      <td>0.0</td>\n",
              "      <td>66.0</td>\n",
              "      <td>360.0</td>\n",
              "      <td>1.0</td>\n",
              "      <td>Urban</td>\n",
              "      <td>Y</td>\n",
              "    </tr>\n",
              "    <tr>\n",
              "      <th>3</th>\n",
              "      <td>LP001006</td>\n",
              "      <td>Male</td>\n",
              "      <td>Yes</td>\n",
              "      <td>0</td>\n",
              "      <td>Not Graduate</td>\n",
              "      <td>No</td>\n",
              "      <td>2583</td>\n",
              "      <td>2358.0</td>\n",
              "      <td>120.0</td>\n",
              "      <td>360.0</td>\n",
              "      <td>1.0</td>\n",
              "      <td>Urban</td>\n",
              "      <td>Y</td>\n",
              "    </tr>\n",
              "    <tr>\n",
              "      <th>4</th>\n",
              "      <td>LP001008</td>\n",
              "      <td>Male</td>\n",
              "      <td>No</td>\n",
              "      <td>0</td>\n",
              "      <td>Graduate</td>\n",
              "      <td>No</td>\n",
              "      <td>6000</td>\n",
              "      <td>0.0</td>\n",
              "      <td>141.0</td>\n",
              "      <td>360.0</td>\n",
              "      <td>1.0</td>\n",
              "      <td>Urban</td>\n",
              "      <td>Y</td>\n",
              "    </tr>\n",
              "  </tbody>\n",
              "</table>\n",
              "</div>\n",
              "      <button class=\"colab-df-convert\" onclick=\"convertToInteractive('df-a222fa05-5389-4094-93c6-0524def88f3f')\"\n",
              "              title=\"Convert this dataframe to an interactive table.\"\n",
              "              style=\"display:none;\">\n",
              "        \n",
              "  <svg xmlns=\"http://www.w3.org/2000/svg\" height=\"24px\"viewBox=\"0 0 24 24\"\n",
              "       width=\"24px\">\n",
              "    <path d=\"M0 0h24v24H0V0z\" fill=\"none\"/>\n",
              "    <path d=\"M18.56 5.44l.94 2.06.94-2.06 2.06-.94-2.06-.94-.94-2.06-.94 2.06-2.06.94zm-11 1L8.5 8.5l.94-2.06 2.06-.94-2.06-.94L8.5 2.5l-.94 2.06-2.06.94zm10 10l.94 2.06.94-2.06 2.06-.94-2.06-.94-.94-2.06-.94 2.06-2.06.94z\"/><path d=\"M17.41 7.96l-1.37-1.37c-.4-.4-.92-.59-1.43-.59-.52 0-1.04.2-1.43.59L10.3 9.45l-7.72 7.72c-.78.78-.78 2.05 0 2.83L4 21.41c.39.39.9.59 1.41.59.51 0 1.02-.2 1.41-.59l7.78-7.78 2.81-2.81c.8-.78.8-2.07 0-2.86zM5.41 20L4 18.59l7.72-7.72 1.47 1.35L5.41 20z\"/>\n",
              "  </svg>\n",
              "      </button>\n",
              "      \n",
              "  <style>\n",
              "    .colab-df-container {\n",
              "      display:flex;\n",
              "      flex-wrap:wrap;\n",
              "      gap: 12px;\n",
              "    }\n",
              "\n",
              "    .colab-df-convert {\n",
              "      background-color: #E8F0FE;\n",
              "      border: none;\n",
              "      border-radius: 50%;\n",
              "      cursor: pointer;\n",
              "      display: none;\n",
              "      fill: #1967D2;\n",
              "      height: 32px;\n",
              "      padding: 0 0 0 0;\n",
              "      width: 32px;\n",
              "    }\n",
              "\n",
              "    .colab-df-convert:hover {\n",
              "      background-color: #E2EBFA;\n",
              "      box-shadow: 0px 1px 2px rgba(60, 64, 67, 0.3), 0px 1px 3px 1px rgba(60, 64, 67, 0.15);\n",
              "      fill: #174EA6;\n",
              "    }\n",
              "\n",
              "    [theme=dark] .colab-df-convert {\n",
              "      background-color: #3B4455;\n",
              "      fill: #D2E3FC;\n",
              "    }\n",
              "\n",
              "    [theme=dark] .colab-df-convert:hover {\n",
              "      background-color: #434B5C;\n",
              "      box-shadow: 0px 1px 3px 1px rgba(0, 0, 0, 0.15);\n",
              "      filter: drop-shadow(0px 1px 2px rgba(0, 0, 0, 0.3));\n",
              "      fill: #FFFFFF;\n",
              "    }\n",
              "  </style>\n",
              "\n",
              "      <script>\n",
              "        const buttonEl =\n",
              "          document.querySelector('#df-a222fa05-5389-4094-93c6-0524def88f3f button.colab-df-convert');\n",
              "        buttonEl.style.display =\n",
              "          google.colab.kernel.accessAllowed ? 'block' : 'none';\n",
              "\n",
              "        async function convertToInteractive(key) {\n",
              "          const element = document.querySelector('#df-a222fa05-5389-4094-93c6-0524def88f3f');\n",
              "          const dataTable =\n",
              "            await google.colab.kernel.invokeFunction('convertToInteractive',\n",
              "                                                     [key], {});\n",
              "          if (!dataTable) return;\n",
              "\n",
              "          const docLinkHtml = 'Like what you see? Visit the ' +\n",
              "            '<a target=\"_blank\" href=https://colab.research.google.com/notebooks/data_table.ipynb>data table notebook</a>'\n",
              "            + ' to learn more about interactive tables.';\n",
              "          element.innerHTML = '';\n",
              "          dataTable['output_type'] = 'display_data';\n",
              "          await google.colab.output.renderOutput(dataTable, element);\n",
              "          const docLink = document.createElement('div');\n",
              "          docLink.innerHTML = docLinkHtml;\n",
              "          element.appendChild(docLink);\n",
              "        }\n",
              "      </script>\n",
              "    </div>\n",
              "  </div>\n",
              "  "
            ]
          },
          "metadata": {},
          "execution_count": 3
        }
      ],
      "source": [
        "train.info()\n",
        "#train.isnull().sum()\n",
        "train.head()"
      ]
    },
    {
      "cell_type": "code",
      "source": [
        "train.isnull().sum()"
      ],
      "metadata": {
        "colab": {
          "base_uri": "https://localhost:8080/"
        },
        "id": "FJNsIcjtQyWA",
        "outputId": "dc9922a3-3d22-4d05-dabf-b702098412ad"
      },
      "execution_count": null,
      "outputs": [
        {
          "output_type": "execute_result",
          "data": {
            "text/plain": [
              "Loan_ID              0\n",
              "Gender               0\n",
              "Married              0\n",
              "Dependents           0\n",
              "Education            0\n",
              "Self_Employed        0\n",
              "ApplicantIncome      0\n",
              "CoapplicantIncome    0\n",
              "LoanAmount           0\n",
              "Loan_Amount_Term     0\n",
              "Credit_History       0\n",
              "Property_Area        0\n",
              "Loan_Status          0\n",
              "dtype: int64"
            ]
          },
          "metadata": {},
          "execution_count": 12
        }
      ]
    },
    {
      "cell_type": "code",
      "source": [
        "train=train.dropna()"
      ],
      "metadata": {
        "id": "DoNDC0quQ3N2"
      },
      "execution_count": null,
      "outputs": []
    },
    {
      "cell_type": "code",
      "execution_count": null,
      "metadata": {
        "id": "4DsyCMWwBlOw"
      },
      "outputs": [],
      "source": [
        "train[\"Gender\"]=train[\"Gender\"].replace({\"Male\":0,\"Female\":1})\n",
        "train[\"Married\"]=train[\"Married\"].replace({\"Yes\":1,\"No\":0})\n",
        "train[\"Education\"]=train[\"Education\"].replace({\"Graduate\":1,\"Not Graduate\":0})\n",
        "train[\"Self_Employed\"]=train[\"Self_Employed\"].replace({\"Yes\":1,\"No\":0})\n",
        "train[\"Loan_Status\"]=train[\"Loan_Status\"].replace({\"Y\":1,\"N\":0})\n",
        "train[\"Dependents\"]=train[\"Dependents\"].replace({\"0\":0})\n",
        "train[\"Dependents\"]=train[\"Dependents\"].replace({\"1\":1})\n",
        "train[\"Dependents\"]=train[\"Dependents\"].replace({\"2\":2})\n",
        "train[\"Dependents\"]=train[\"Dependents\"].replace({\"3+\":3})\n",
        "#print(data['Gender'].unique())\n",
        "#one_hot_encoded_data = pd.get_dummies(data, columns = ['Remarks', 'Gender'])"
      ]
    },
    {
      "cell_type": "code",
      "execution_count": null,
      "metadata": {
        "id": "IeHbz5RBwoKq"
      },
      "outputs": [],
      "source": [
        "#train[\"Gender\"]=pd.to_numeric(train[\"Gender\"])\n",
        "#train[\"Dependents\"].map({\"0\":0,\"1\":1,\"3+\":3}).astype(int)"
      ]
    },
    {
      "cell_type": "code",
      "execution_count": null,
      "metadata": {
        "id": "_XjrK2kRCl50"
      },
      "outputs": [],
      "source": [
        "train=train.drop(columns=[\"Loan_ID\"])"
      ]
    },
    {
      "cell_type": "markdown",
      "metadata": {
        "id": "0n8ynUi5EyH7"
      },
      "source": [
        "nesheel el nulls ba2a.."
      ]
    },
    {
      "cell_type": "code",
      "execution_count": null,
      "metadata": {
        "id": "o_6u0scsCWK_"
      },
      "outputs": [],
      "source": [
        "train[\"Loan_Amount_Term\"]=train[\"Loan_Amount_Term\"].fillna(train[\"Loan_Amount_Term\"].mean())\n",
        "train[\"Dependents\"]=train[\"Dependents\"].fillna(train[\"Dependents\"].mean())\n",
        "train[\"Dependents\"]=train[\"Dependents\"].fillna(train[\"Credit_History\"].mode())\n",
        "train[\"Loan_Amount_Term\"]=train[\"Loan_Amount_Term\"].fillna(train[\"Loan_Amount_Term\"].mean())\n",
        "train[\"LoanAmount\"]=train[\"LoanAmount\"].fillna(train[\"LoanAmount\"].mean())\n",
        "train[\"Self_Employed\"]=train[\"Self_Employed\"].fillna(train[\"Self_Employed\"].mean())\n",
        "train[\"Married\"]=train[\"Married\"].fillna(0)#better with condition\n",
        "train[\"Credit_History\"]=train[\"Credit_History\"].fillna(train[\"Credit_History\"].mean())\n",
        "train[\"Gender\"]=train[\"Gender\"].fillna(0)\n"
      ]
    },
    {
      "cell_type": "markdown",
      "metadata": {
        "id": "8MGvngKjy0mv"
      },
      "source": [
        "one hot encoding"
      ]
    },
    {
      "cell_type": "code",
      "execution_count": null,
      "metadata": {
        "id": "LafdeF9QuktW"
      },
      "outputs": [],
      "source": [
        "print(train[\"Married\"].mode())\n",
        "train[\"ColumnName\"]=train[\"ColumnName\"].fillna(1)"
      ]
    },
    {
      "cell_type": "code",
      "execution_count": null,
      "metadata": {
        "id": "-kes2dgPyY9r"
      },
      "outputs": [],
      "source": [
        "encd = pd.get_dummies(train, columns = ['Property_Area'])"
      ]
    },
    {
      "cell_type": "markdown",
      "metadata": {
        "id": "l3CksSKXeGy8"
      },
      "source": [
        "swappinng culumns"
      ]
    },
    {
      "cell_type": "code",
      "execution_count": null,
      "metadata": {
        "id": "oyP1O7JweGGI"
      },
      "outputs": [],
      "source": [
        "lbl=train[\"Loan_Status\"]\n",
        "train=train.drop(columns=[\"ColumnName\"])\n",
        "train.head()"
      ]
    },
    {
      "cell_type": "code",
      "execution_count": null,
      "metadata": {
        "id": "3tCI4ZP2fFXQ"
      },
      "outputs": [],
      "source": [
        "train[\"Loan_Status\"]=lbl\n",
        "train.head()"
      ]
    },
    {
      "cell_type": "code",
      "execution_count": null,
      "metadata": {
        "id": "Tcb61NHWzkDp"
      },
      "outputs": [],
      "source": [
        "#print(encd)\n",
        "print(train.isnull().sum())\n",
        "train=train.dropna()"
      ]
    },
    {
      "cell_type": "code",
      "execution_count": null,
      "metadata": {
        "id": "rww0wY7yz-Ga"
      },
      "outputs": [],
      "source": [
        "train[\"Property_Area_Urban\"]=encd[\"Property_Area_Urban\"]\n",
        "train[\"Property_Area_Rural\"]=encd[\"Property_Area_Rural\"]\n",
        "train[\"Property_Area_Semiurban\"]=encd[\"Property_Area_Semiurban\"]"
      ]
    },
    {
      "cell_type": "code",
      "execution_count": null,
      "metadata": {
        "id": "C6lDGK4drOZk"
      },
      "outputs": [],
      "source": [
        "train=train.drop(columns=[\"Property_Area\"])"
      ]
    },
    {
      "cell_type": "code",
      "execution_count": null,
      "metadata": {
        "id": "Fkag_J8opCpB"
      },
      "outputs": [],
      "source": [
        "train.info()"
      ]
    },
    {
      "cell_type": "markdown",
      "metadata": {
        "id": "DrHgPofF9ZOo"
      },
      "source": [
        "Outliers removal "
      ]
    },
    {
      "cell_type": "code",
      "execution_count": null,
      "metadata": {
        "id": "EapmsIoG9eiI"
      },
      "outputs": [],
      "source": [
        "sns.boxplot(train['ApplicantIncome'])"
      ]
    },
    {
      "cell_type": "code",
      "execution_count": null,
      "metadata": {
        "id": "gn7twzw4e1yl"
      },
      "outputs": [],
      "source": [
        "mask = train['ApplicantIncome']<10000"
      ]
    },
    {
      "cell_type": "code",
      "execution_count": null,
      "metadata": {
        "id": "5jko037KfmBe"
      },
      "outputs": [],
      "source": [
        "from sklearn.preprocessing import StandardScaler\n",
        "from sklearn.preprocessing import MinMaxScaler"
      ]
    },
    {
      "cell_type": "code",
      "execution_count": null,
      "metadata": {
        "id": "SCdjpZJxA8YX"
      },
      "outputs": [],
      "source": [
        "print(np.where(train['ApplicantIncome']>10000))\n",
        "train[mask]\n",
        "train=train[mask]\n",
        "#train[\"ApplicantIncome\"]=train[\"ApplicantIncome\"][:10000]\n",
        "#print(train[\"ApplicantIncome\"][1000])"
      ]
    },
    {
      "cell_type": "code",
      "execution_count": null,
      "metadata": {
        "id": "TkK2nvkMBrTo"
      },
      "outputs": [],
      "source": [
        "sns.boxplot(train['ApplicantIncome'])"
      ]
    },
    {
      "cell_type": "code",
      "execution_count": null,
      "metadata": {
        "id": "Zkb3II32Acbb"
      },
      "outputs": [],
      "source": [
        "# IQR\n",
        "Q1 = np.percentile(train['ApplicantIncome'], 25,\n",
        "\t\t\t\tinterpolation = 'midpoint')\n",
        "\n",
        "Q3 = np.percentile(train['ApplicantIncome'], 75,\n",
        "\t\t\t\tinterpolation = 'midpoint')\n",
        "IQR = Q3 - Q1\n",
        "sns.boxplot(train['ApplicantIncome'])"
      ]
    },
    {
      "cell_type": "markdown",
      "metadata": {
        "id": "HfYaW_F8HC-a"
      },
      "source": [
        "**Normalization**"
      ]
    },
    {
      "cell_type": "code",
      "source": [
        "print(train[\"CoapplicantIncome\"])"
      ],
      "metadata": {
        "colab": {
          "base_uri": "https://localhost:8080/"
        },
        "id": "xAWw91Ipv8_3",
        "outputId": "7675a2e9-2e19-400d-a7b9-83c171757210"
      },
      "execution_count": null,
      "outputs": [
        {
          "output_type": "stream",
          "name": "stdout",
          "text": [
            "0      0.000000\n",
            "1      0.044567\n",
            "2      0.000000\n",
            "3      0.069687\n",
            "4      0.000000\n",
            "         ...   \n",
            "609    0.000000\n",
            "610    0.000000\n",
            "611    0.007093\n",
            "612    0.000000\n",
            "613    0.000000\n",
            "Name: CoapplicantIncome, Length: 499, dtype: float64\n"
          ]
        }
      ]
    },
    {
      "cell_type": "code",
      "execution_count": null,
      "metadata": {
        "id": "SUTZ56KeHGLl",
        "colab": {
          "base_uri": "https://localhost:8080/"
        },
        "outputId": "8f736644-4800-47e0-c12c-bf9f8df0ac88"
      },
      "outputs": [
        {
          "output_type": "stream",
          "name": "stderr",
          "text": [
            "<ipython-input-14-391910a9dfc8>:3: SettingWithCopyWarning: \n",
            "A value is trying to be set on a copy of a slice from a DataFrame.\n",
            "Try using .loc[row_indexer,col_indexer] = value instead\n",
            "\n",
            "See the caveats in the documentation: https://pandas.pydata.org/pandas-docs/stable/user_guide/indexing.html#returning-a-view-versus-a-copy\n",
            "  train[\"CoapplicantIncome\"]=(train[\"CoapplicantIncome\"]-train[\"CoapplicantIncome\"].min())/(train[\"CoapplicantIncome\"].max()-train[\"CoapplicantIncome\"].min())\n"
          ]
        }
      ],
      "source": [
        "#train[\"CoapplicantIncome\"]=preprocessing.normalize(train[\"CoapplicantIncome\"])\n",
        "#df_norm = (df-df.min())/ (df.max() - df.min())\n",
        "train[\"CoapplicantIncome\"]=(train[\"CoapplicantIncome\"]-train[\"CoapplicantIncome\"].min())/(train[\"CoapplicantIncome\"].max()-train[\"CoapplicantIncome\"].min())\n",
        "#print(train[\"CoapplicantIncome\"].max())"
      ]
    },
    {
      "cell_type": "code",
      "execution_count": null,
      "metadata": {
        "id": "rqJOZgkCcGnq"
      },
      "outputs": [],
      "source": [
        "#train[\"Loan_Amount_Term\"]=(train[\"Loan_Amount_Term\"]-train[\"Loan_Amount_Term\"].min())/(train[\"Loan_Amount_Term\"].max()-train[\"Loan_Amount_Term\"].min())\n",
        "trainnorm = (train - train.min())/ (train.max() - train.min())\n"
      ]
    },
    {
      "cell_type": "code",
      "execution_count": null,
      "metadata": {
        "id": "lj9Z1isGH5Qr"
      },
      "outputs": [],
      "source": [
        "train"
      ]
    },
    {
      "cell_type": "markdown",
      "metadata": {
        "id": "DhK8L8479Iep"
      },
      "source": [
        "**Algorithms**"
      ]
    },
    {
      "cell_type": "code",
      "execution_count": null,
      "metadata": {
        "id": "80onY2hH_9fP"
      },
      "outputs": [],
      "source": [
        "from pandas.core.common import random_state\n",
        "y=train[\"Loan_Status\"]\n",
        "x=train.iloc[:,:]\n",
        "x=x.drop(columns=[\"Loan_Status\"])\n",
        "xtrain,xtest,ytrain,ytest=train_test_split(x,y,test_size=0.3,random_state=0)"
      ]
    },
    {
      "cell_type": "markdown",
      "metadata": {
        "id": "aqZT0lAyjz2-"
      },
      "source": [
        "*SVM*"
      ]
    },
    {
      "cell_type": "code",
      "execution_count": null,
      "metadata": {
        "id": "Ab3I7amyvMTi"
      },
      "outputs": [],
      "source": [
        "\n",
        "support=svm.SVC()\n",
        "support.fit(xtrain,ytrain)\n",
        "print(support.score(xtrain,ytrain))"
      ]
    },
    {
      "cell_type": "markdown",
      "metadata": {
        "id": "ds-2yz4gj3dV"
      },
      "source": [
        "Logistic *Regression*"
      ]
    },
    {
      "cell_type": "code",
      "execution_count": null,
      "metadata": {
        "id": "pFYKwYEbj70i"
      },
      "outputs": [],
      "source": [
        "from sklearn.linear_model import LogisticRegression\n",
        "from sklearn import metrics\n",
        "from sklearn.metrics import confusion_matrix\n",
        "model = LogisticRegression()\n",
        "model.fit(xtrain, ytrain)\n",
        "yprd=model.predict(xtrain)\n",
        "print(model.score(xtest,ytest))\n",
        "print (confusion_matrix(ytrain,yprd))"
      ]
    },
    {
      "cell_type": "markdown",
      "metadata": {
        "id": "_KCWw0yorvGb"
      },
      "source": [
        "*ID3*"
      ]
    },
    {
      "cell_type": "code",
      "execution_count": null,
      "metadata": {
        "id": "XvDDdxZOr7ZE"
      },
      "outputs": [],
      "source": [
        "dt=tree.DecisionTreeClassifier()\n",
        "dt.fit(xtrain,ytrain)\n",
        "yprd=dt.predict(xtest)\n",
        "print(dt.score(xtest,ytest))\n",
        "print(\"Accuracy \",metrics.accuracy_score(ytest,yprd))"
      ]
    },
    {
      "cell_type": "code",
      "execution_count": null,
      "metadata": {
        "id": "JlgWrfyqCO46"
      },
      "outputs": [],
      "source": [
        "ytest"
      ]
    },
    {
      "cell_type": "code",
      "execution_count": null,
      "metadata": {
        "id": "QRfeCylsMNez"
      },
      "outputs": [],
      "source": [
        "#xtrain=xtrain.drop(columns=[\"Loan_Status\"])\n",
        "#xtest=xtest.drop(columns=[\"Loan_Status\"])"
      ]
    }
  ],
  "metadata": {
    "colab": {
      "provenance": [],
      "include_colab_link": true
    },
    "kernelspec": {
      "display_name": "Python 3",
      "name": "python3"
    },
    "language_info": {
      "name": "python"
    }
  },
  "nbformat": 4,
  "nbformat_minor": 0
}